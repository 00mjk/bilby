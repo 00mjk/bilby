{
 "cells": [
  {
   "cell_type": "markdown",
   "metadata": {},
   "source": [
    "# TIM - The Ineference Machine"
   ]
  },
  {
   "cell_type": "markdown",
   "metadata": {},
   "source": [
    "## This is the first tutorial for TIM, the code-formally-known as PEYOte.\n",
    "May PEYOte rest in peace"
   ]
  },
  {
   "cell_type": "markdown",
   "metadata": {},
   "source": [
    "TIM is a fast, easy to use parameter estimation code for gravitational-wave astronomy.  This tutorial will take you through the basics steps of creating a model waveform, injecting that waveform into simulated noise, and then recovering that signal."
   ]
  },
  {
   "cell_type": "code",
   "execution_count": 2,
   "metadata": {},
   "outputs": [
    {
     "name": "stdout",
     "output_type": "stream",
     "text": [
      "Populating the interactive namespace from numpy and matplotlib\n"
     ]
    }
   ],
   "source": [
    "%pylab inline\n",
    "# %matplotlib notebook\n",
    "import numpy as np\n",
    "import pylab as plt\n",
    "\n",
    "%load_ext autoreload\n",
    "%autoreload 2\n",
    "import peyote\n",
    "import corner\n",
    "\n",
    "import logging\n",
    "logging.getLogger().addHandler(logging.StreamHandler())\n",
    "logging.getLogger().setLevel('DEBUG')"
   ]
  },
  {
   "cell_type": "markdown",
   "metadata": {},
   "source": [
    "## Define a source and simulate data"
   ]
  },
  {
   "cell_type": "code",
   "execution_count": 3,
   "metadata": {},
   "outputs": [
    {
     "data": {
      "image/png": "[encoded data removed]",
      "text/plain": [
       "<matplotlib.figure.Figure at 0x7f69ead0d110>"
      ]
     },
     "metadata": {},
     "output_type": "display_data"
    }
   ],
   "source": [
    "time_duration = 1.\n",
    "sampling_frequency = 4096.\n",
    "\n",
    "simulation_parameters = dict(\n",
    "    mass_1 = 36.,\n",
    "    mass_2 = 29.,\n",
    "    spin_1 = [0, 0, 0], \n",
    "    spin_2 = [0, 0, 0],\n",
    "    luminosity_distance = 410.,\n",
    "    iota = 0., \n",
    "    phase = 0., \n",
    "    waveform_approximant = 'IMRPhenomPv2',\n",
    "    reference_frequency = 50.,\n",
    "    ra = 0,\n",
    "    dec = 1,\n",
    "    geocent_time = 0,\n",
    "    psi=1\n",
    "    )\n",
    "\n",
    "source = peyote.source.BinaryBlackHole('BBH', sampling_frequency, time_duration)\n",
    "hf_signal = source.frequency_domain_strain(simulation_parameters)\n",
    "\n",
    "plt.loglog(source.frequency_array, np.abs(hf_signal['plus']))\n",
    "plt.show()"
   ]
  },
  {
   "cell_type": "code",
   "execution_count": 4,
   "metadata": {},
   "outputs": [
    {
     "data": {
      "image/png": "[encoded data removed]",
      "text/plain": [
       "<matplotlib.figure.Figure at 0x7f69e37a0ed0>"
      ]
     },
     "metadata": {},
     "output_type": "display_data"
    }
   ],
   "source": [
    "# Simulate the data in H1\n",
    "IFO = peyote.detector.H1\n",
    "hf_noise, frequencies = IFO.power_spectral_density.get_noise_realisation(\n",
    "    sampling_frequency, time_duration)\n",
    "IFO.set_data(frequency_domain_strain=hf_noise)\n",
    "IFO.inject_signal(source, simulation_parameters)\n",
    "IFO.set_spectral_densities(frequencies)\n",
    "IFO.whiten_data()\n",
    "\n",
    "# Plot the noise and signal\n",
    "plt.loglog(frequencies, np.abs(hf_noise), lw=1.5, label='noise+signal')\n",
    "plt.loglog(frequencies, np.abs(hf_signal['plus']), lw=0.8, label='signal')\n",
    "plt.xlim(10, 1000)\n",
    "plt.legend()\n",
    "plt.xlabel(r'frequency')\n",
    "plt.ylabel(r'strain')\n",
    "plt.show()"
   ]
  },
  {
   "cell_type": "markdown",
   "metadata": {},
   "source": [
    "## Search the data\n",
    "\n",
    "Here we use an informed prior for `mass_1`, but the default prior for `mass_2` (this is achieved by removing `mass_2` from the input prior dictionary."
   ]
  },
  {
   "cell_type": "code",
   "execution_count": 12,
   "metadata": {},
   "outputs": [
    {
     "name": "stderr",
     "output_type": "stream",
     "text": [
      "Search parameters:\n",
      "  mass_1 ~ Uniform(upper=37, lower=35, support=2)\n",
      "  mass_2 ~ PowerLaw(high=100, alpha=0, low=5)\n",
      "Renaming existing file ./default_label_results.p to ./default_label_results.p.old\n",
      "Saving result to ./default_label_results.p\n"
     ]
    },
    {
     "name": "stdout",
     "output_type": "stream",
     "text": [
      "CPU times: user 1min 52s, sys: 24 ms, total: 1min 52s\n",
      "Wall time: 37.3 s\n"
     ]
    }
   ],
   "source": [
    "%%time\n",
    "\n",
    "likelihood = peyote.likelihood.likelihood([IFO], source)\n",
    "\n",
    "prior = simulation_parameters.copy()\n",
    "prior['mass_1'] = peyote.parameter.Parameter(\n",
    "    'mass_1', prior=peyote.prior.Uniform(lower=35, upper=37),\n",
    "    latex_label='$m_1$')\n",
    "prior.pop('mass_2')\n",
    "\n",
    "result = peyote.run_sampler(likelihood, prior, sampler='nestle', npoints=100)"
   ]
  },
  {
   "cell_type": "markdown",
   "metadata": {},
   "source": [
    "Plot a corner plot"
   ]
  },
  {
   "cell_type": "code",
   "execution_count": null,
   "metadata": {},
   "outputs": [],
   "source": [
    "truths = [simulation_parameters[k] for k in result.search_parameter_keys]\n",
    "fig = corner.corner(result.samples, labels=result.labels,\n",
    "                    truths=truths)\n",
    "fig.show()"
   ]
  },
  {
   "cell_type": "markdown",
   "metadata": {},
   "source": [
    "The results are saved to disc in a pickle file. To load this"
   ]
  },
  {
   "cell_type": "code",
   "execution_count": 13,
   "metadata": {
    "collapsed": true
   },
   "outputs": [],
   "source": [
    "import pickle\n",
    "with open('default_label_results.p', 'r') as f:\n",
    "    r = pickle.load(f)"
   ]
  }
 ],
 "metadata": {
  "kernelspec": {
   "display_name": "Python 2",
   "language": "python",
   "name": "python2"
  },
  "language_info": {
   "codemirror_mode": {
    "name": "ipython",
    "version": 2
   },
   "file_extension": ".py",
   "mimetype": "text/x-python",
   "name": "python",
   "nbconvert_exporter": "python",
   "pygments_lexer": "ipython2",
   "version": "2.7.14"
  }
 },
 "nbformat": 4,
 "nbformat_minor": 2
}
